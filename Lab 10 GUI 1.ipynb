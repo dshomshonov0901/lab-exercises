{
 "cells": [
  {
   "cell_type": "code",
   "execution_count": 51,
   "id": "7309cbc8",
   "metadata": {},
   "outputs": [],
   "source": [
    "from tkinter import *\n",
    "from tkinter import font\n",
    "import random\n",
    "root=Tk()\n",
    "root.title(\"Quotes\")\n",
    "root.geometry(\"600x400\")\n",
    "r=requests.get(\"https://api.quotable.io/authors\").json()\n",
    "\n",
    "# Select 10 random authors with a 'name' attribute\n",
    "random_authors = []\n",
    "while len(random_authors) < 10:\n",
    "    author = random.choice(r['results'])\n",
    "    if 'name' in author and author['name'] not in random_authors:\n",
    "        random_authors.append(author['name'])\n",
    "    \n",
    "def get_quote():\n",
    "    author=value.get()\n",
    "    r=requests.get(f\"https://api.quotable.io/quotes?author={author}\").json()\n",
    "    quote = random.choice(r['results'])['content']\n",
    "    quote_label.config(text=f\"Here's a quote by {author}: {quote}\")\n",
    "def chosen_option():\n",
    "    author=value.get()\n",
    "    result_label=Label(root, text=f\"You've chosen {author}\")\n",
    "    result_label.pack()\n",
    "    get_quote_button.config(state=NORMAL)\n",
    "\n",
    "value=StringVar()\n",
    "value.set(\"Select an author\")\n",
    "\n",
    "dropdown=OptionMenu(root, value, *random_authors)\n",
    "choose_button= Button(root, text=\"Click to choose\", command=chosen_option)\n",
    "dropdown.pack()\n",
    "choose_button.pack()\n",
    "get_quote_button = Button(root, text=\"Get a quote\", command=get_quote, state=DISABLED)\n",
    "get_quote_button.pack()\n",
    "quote_label = Label(root, wraplength=500, font=(\"Arial\", 14))\n",
    "quote_label.pack()\n",
    "\n",
    "root.mainloop()\n"
   ]
  },
  {
   "cell_type": "code",
   "execution_count": null,
   "id": "86eaefd1",
   "metadata": {},
   "outputs": [],
   "source": [
    "\n"
   ]
  },
  {
   "cell_type": "code",
   "execution_count": null,
   "id": "6c62ffc2",
   "metadata": {},
   "outputs": [],
   "source": []
  }
 ],
 "metadata": {},
 "nbformat": 4,
 "nbformat_minor": 5
}
